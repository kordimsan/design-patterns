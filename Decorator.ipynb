{
 "cells": [
  {
   "cell_type": "markdown",
   "metadata": {},
   "source": [
    "# Паттерн Декоратор\n",
    "\n",
    "Паттерн декоратор относится к классу структурных паттернов проектирования. Его основная задача -- динамическое подключение дополнительной функциональности к объекту. При этом для подключения дополнительной функциональности используется не сложная иерархия подклассов, что является классическим решением данной задачи, а отдельная иерархия декораторов.\n",
    "\n",
    "Каждый из видов дополнительной функциональности, которая может быть добавлена к объекту, помещается в отдельный класс. Эти классы сами по себе небольшие, поэтому в них легко разобраться.\n",
    "\n",
    "В паттерн \"Декоратор\" входят оборачиваемый объект и сама иерархия декораторов. Каждый из декораторов реализует какое-то одно функциональное свойство. Это позволяет соблюдать один из SOLID принципов -- принцип единственной ответственности. Так мы можем подключить к классу только ту функциональность, которая необходима ему в данный момент. Для подключения нескольких\n",
    "функциональных свойств можно последовательно использовать несколько декораторов.\n"
   ]
  },
  {
   "cell_type": "markdown",
   "metadata": {},
   "source": [
    "# Структура декораторов\n",
    "\n",
    "<img src=\"https://upload.wikimedia.org/wikipedia/commons/thumb/e/e9/Decorator_UML_class_diagram.svg/960px-Decorator_UML_class_diagram.svg.png\">\n",
    "\n",
    "Для создания паттерна \"Декоратор\" необходимы следующие классы:\n",
    "\n",
    "* Абстрактный объект (Component)\n",
    "* Оборачиваемый объект (на UML-диаграмме ConcreteComponent)\n",
    "* Абстрактный декоратор (Decorator)\n",
    "* Конкретный декоратор (ConcreteDecorator)\n",
    "\n",
    "Как видно из диаграммы, все декораторы по сути являются объектами, подобными самому компоненту. Из этого следует, что они реализуют одинаковый интерфейс. Согласно принципу подстановки Барбары Лисков у пользователя должна быть возможность корректного использования объекта-декоратора (то есть объекта, обернутого в декоратор), не зная об этом.\n",
    "\n",
    "Тут находится одно из слабых мест паттерна. Интерфейс объекта и интерфейс модифицированного объекта одинаковы. Это не всегда удобно, иногда для модифицированного объекта требуется отдельный интерфейс."
   ]
  },
  {
   "cell_type": "markdown",
   "metadata": {},
   "source": [
    "# Другие похожие паттерны:\n",
    "\n",
    "### Стратегия\n",
    "\n",
    "Также позволяет динамически добавлять поведение объекту. Так же, как и в декораторе, стратегии реализуются в отдельных классах Однако, в отличие от декоратора, декорируемый класс не оборачивается в стратегию, а стратегия, как компонент, встраивается в основной класс.\n",
    "\n",
    "### Цепочка обязанностей\n",
    "\n",
    "Цепочка обязанностей так же в чем-то близкий к декоратору класс. Она так же задает множество обработчиков некоторого события. Отличие от декоратора заключается в том, что в цепочке обязанностей событие обрабатывает только один из классов, тогда как в декораторе все классы-декораторы обрабатывают событие."
   ]
  },
  {
   "cell_type": "markdown",
   "metadata": {},
   "source": [
    "# Использование паттерна Декоратор\n",
    "\n",
    "При использовании паттерна декорируемый объект оборачивается в декоратор. Таким образом получается вложенная структура из декораторов. Отменить действие декоратора можно, если достать базовый объект из декоратора. Это можно сделать, обратившись к decorated_object.base. Аналогичным образом можно отменить эффект декоратора из середины иерархии. Для этого изменим базовый объект у внешнего декоратора на базовый объект декоратора, который необходимо удалить. Принцип похож на удаление элемента из середины односвязного списка."
   ]
  },
  {
   "cell_type": "markdown",
   "metadata": {},
   "source": [
    "# Пример использования Декоратора"
   ]
  },
  {
   "cell_type": "code",
   "execution_count": 1,
   "metadata": {
    "collapsed": true
   },
   "outputs": [],
   "source": [
    "from abc import ABC, abstractmethod\n",
    "\n",
    "class Creature(ABC):\n",
    "    @abstractmethod\n",
    "    def feed(self):\n",
    "        pass\n",
    "    \n",
    "    @abstractmethod\n",
    "    def move(self):\n",
    "        pass\n",
    "    \n",
    "    @abstractmethod\n",
    "    def make_noise(self):\n",
    "        pass\n",
    "    \n",
    "class Animal(Creature):\n",
    "    def feed(self):\n",
    "        print(\"I eat grass\")\n",
    "        \n",
    "    def move(self):\n",
    "        print(\"I walk forward\")\n",
    "    \n",
    "    def make_noise(self):\n",
    "        print(\"WOOO!\")\n",
    "        \n",
    "class AbstractDecorator(Creature):\n",
    "    def __init__(self, obj):\n",
    "        self.obj = obj\n",
    "        \n",
    "    def feed(self):\n",
    "        self.obj.feed()\n",
    "    \n",
    "    def move(self):\n",
    "        self.obj.move()\n",
    "    \n",
    "    def make_noise(self):\n",
    "        self.obj.make_noise()\n",
    "        \n",
    "class Swimming(AbstractDecorator):\n",
    "    def move(self):\n",
    "        print(\"I swim\")\n",
    "    \n",
    "    def make_noise(self):\n",
    "        print(\"...\")\n",
    "        \n",
    "class Flying(AbstractDecorator):\n",
    "    def move(self):\n",
    "        print(\"I fly\")\n",
    "    \n",
    "    def make_noise(self):\n",
    "        print(\"QUAAA!\")\n",
    "        \n",
    "class Predator(AbstractDecorator):\n",
    "    def feed(self):\n",
    "        print(\"I eat other animals\")\n",
    "        \n",
    "class Fast(AbstractDecorator):\n",
    "    def move(self):\n",
    "        self.obj.move()\n",
    "        print(\"Fast!\")"
   ]
  },
  {
   "cell_type": "code",
   "execution_count": 2,
   "metadata": {},
   "outputs": [
    {
     "name": "stdout",
     "output_type": "stream",
     "text": [
      "I eat grass\n",
      "I walk forward\n",
      "WOOO!\n",
      "\n",
      "I eat grass\n",
      "I swim\n",
      "...\n",
      "\n",
      "I eat other animals\n",
      "I swim\n",
      "...\n",
      "\n",
      "I eat other animals\n",
      "I swim\n",
      "Fast!\n",
      "...\n",
      "\n",
      "I eat other animals\n",
      "I swim\n",
      "Fast!\n",
      "Fast!\n",
      "...\n",
      "\n"
     ]
    }
   ],
   "source": [
    "animal = Animal()\n",
    "animal.feed()\n",
    "animal.move()\n",
    "animal.make_noise()\n",
    "print()\n",
    "\n",
    "animal = Swimming(animal)\n",
    "animal.feed()\n",
    "animal.move()\n",
    "animal.make_noise()\n",
    "print()\n",
    "\n",
    "animal = Predator(animal)\n",
    "animal.feed()\n",
    "animal.move()\n",
    "animal.make_noise()\n",
    "print()\n",
    "\n",
    "animal = Fast(animal)\n",
    "animal.feed()\n",
    "animal.move()\n",
    "animal.make_noise()\n",
    "print()\n",
    "\n",
    "\n",
    "animal = Fast(animal)\n",
    "animal.feed()\n",
    "animal.move()\n",
    "animal.make_noise()\n",
    "print()"
   ]
  },
  {
   "cell_type": "code",
   "execution_count": 1,
   "metadata": {},
   "outputs": [],
   "source": [
    "from abc import ABC, abstractmethod\n",
    "\n",
    "class Hero:\n",
    "    def __init__(self):\n",
    "        self.positive_effects = []\n",
    "        self.negative_effects = []\n",
    "        self.stats = {\n",
    "            \"HP\": 128,  # health points\n",
    "            \"MP\": 42,  # magic points, \n",
    "            \"SP\": 100,  # skill points\n",
    "            \"Strength\": 15,  # сила\n",
    "            \"Perception\": 4,  # восприятие\n",
    "            \"Endurance\": 8,  # выносливость\n",
    "            \"Charisma\": 2,  # харизма\n",
    "            \"Intelligence\": 3,  # интеллект\n",
    "            \"Agility\": 8,  # ловкость \n",
    "            \"Luck\": 1  # удача\n",
    "        }\n",
    "\n",
    "    def get_positive_effects(self):\n",
    "        return self.positive_effects.copy()\n",
    "\n",
    "    def get_negative_effects(self):\n",
    "        return self.negative_effects.copy()\n",
    "\n",
    "    def get_stats(self):\n",
    "        return self.stats.copy()"
   ]
  },
  {
   "cell_type": "code",
   "execution_count": 168,
   "metadata": {},
   "outputs": [],
   "source": [
    "class AbstractEffect(Hero):\n",
    "    def __init__(self, base):\n",
    "        self.base = base\n",
    "        \n",
    "    \n",
    "class AbstractPositive(AbstractEffect):\n",
    "    def __init__(self, base):\n",
    "        self.base = base\n",
    "        \n",
    "    @abstractmethod\n",
    "    def get_positive_effects(self):\n",
    "        pass\n",
    "         \n",
    "            \n",
    "class AbstractNegative(AbstractEffect):\n",
    "    def __init__(self, base):\n",
    "        self.base = base        \n",
    "        \n",
    "    @abstractmethod\n",
    "    def get_negative_effects(self):\n",
    "        pass\n",
    "        \n",
    "        \n",
    "class Berserk(AbstractPositive):\n",
    "    def get_positive_effects(self):\n",
    "        self.positive_effects = self.base.get_positive_effects()\n",
    "        self.positive_effects.append('Berserk')\n",
    "        return self.positive_effects\n",
    "        \n",
    "    def get_stats(self):\n",
    "        self.stats = self.base.get_stats()\n",
    "        self.stats['Strength'] += 7\n",
    "        self.stats['Endurance'] += 7\n",
    "        self.stats['Agility'] += 7\n",
    "        self.stats['Luck'] += 7\n",
    "        self.stats['Perception'] -= 3\n",
    "        self.stats['Charisma'] -= 3\n",
    "        self.stats['Intelligence'] -= 3\n",
    "        self.stats['HP'] += 50\n",
    "        return self.stats\n",
    "\n",
    "class Blessing(AbstractPositive):\n",
    "    def get_positive_effects(self):\n",
    "        self.positive_effects = self.base.get_positive_effects()\n",
    "        self.positive_effects.append('Blessing')\n",
    "        return self.positive_effects\n",
    "    \n",
    "    def get_stats(self):\n",
    "        self.stats = self.base.get_stats()\n",
    "        self.stats[\"Strength\"] += 2\n",
    "        self.stats[\"Perception\"] += 2\n",
    "        self.stats[\"Endurance\"] += 2\n",
    "        self.stats[\"Charisma\"] += 2\n",
    "        self.stats[\"Intelligence\"] += 2\n",
    "        self.stats[\"Agility\"] += 2\n",
    "        self.stats[\"Luck\"] += 2\n",
    "        return self.stats\n",
    "        \n",
    "class Weakness(AbstractNegative):\n",
    "    def get_negative_effects(self):\n",
    "        self.negative_effects = self.base.get_negative_effects()\n",
    "        self.negative_effects.append('Weakness')\n",
    "        return self.negative_effects\n",
    "    \n",
    "    def get_stats(self):\n",
    "        self.stats = self.base.get_stats()\n",
    "        self.stats['Strength'] -= 4\n",
    "        self.stats['Endurance'] -= 4\n",
    "        self.stats['Agility'] -= 4\n",
    "        return self.stats\n",
    "\n",
    "class EvilEye(AbstractNegative):\n",
    "    def get_negative_effects(self):\n",
    "        self.negative_effects = self.base.get_negative_effects()\n",
    "        self.negative_effects.append('EvilEye')\n",
    "        return self.negative_effects\n",
    "    \n",
    "    def get_stats(self):\n",
    "        self.stats = self.base.get_stats()\n",
    "        self.stats['Luck'] -= 10\n",
    "        return self.stats\n",
    "\n",
    "class Curse(AbstractNegative):\n",
    "    def get_negative_effects(self):\n",
    "        self.negative_effects = self.base.get_negative_effects()\n",
    "        self.negative_effects.append('Curse')\n",
    "        return self.negative_effects\n",
    "    \n",
    "    def get_stats(self):\n",
    "        self.stats = self.base.get_stats()\n",
    "        self.stats[\"Strength\"] -= 2\n",
    "        self.stats[\"Perception\"] -= 2\n",
    "        self.stats[\"Endurance\"] -= 2\n",
    "        self.stats[\"Charisma\"] -= 2\n",
    "        self.stats[\"Intelligence\"] -= 2\n",
    "        self.stats[\"Agility\"] -= 2\n",
    "        self.stats[\"Luck\"] -= 2\n",
    "        return self.stats\n",
    "\n",
    "\n"
   ]
  },
  {
   "cell_type": "code",
   "execution_count": 169,
   "metadata": {},
   "outputs": [],
   "source": [
    "hero = Hero()"
   ]
  },
  {
   "cell_type": "code",
   "execution_count": 170,
   "metadata": {},
   "outputs": [
    {
     "data": {
      "text/plain": [
       "[]"
      ]
     },
     "execution_count": 170,
     "metadata": {},
     "output_type": "execute_result"
    }
   ],
   "source": [
    "hero.get_positive_effects()"
   ]
  },
  {
   "cell_type": "code",
   "execution_count": 171,
   "metadata": {},
   "outputs": [
    {
     "data": {
      "text/plain": [
       "{'HP': 128,\n",
       " 'MP': 42,\n",
       " 'SP': 100,\n",
       " 'Strength': 15,\n",
       " 'Perception': 4,\n",
       " 'Endurance': 8,\n",
       " 'Charisma': 2,\n",
       " 'Intelligence': 3,\n",
       " 'Agility': 8,\n",
       " 'Luck': 1}"
      ]
     },
     "execution_count": 171,
     "metadata": {},
     "output_type": "execute_result"
    }
   ],
   "source": [
    "hero.stats"
   ]
  },
  {
   "cell_type": "code",
   "execution_count": 172,
   "metadata": {},
   "outputs": [],
   "source": [
    "brs1 = Berserk(hero)"
   ]
  },
  {
   "cell_type": "code",
   "execution_count": 173,
   "metadata": {},
   "outputs": [
    {
     "data": {
      "text/plain": [
       "{'HP': 178,\n",
       " 'MP': 42,\n",
       " 'SP': 100,\n",
       " 'Strength': 22,\n",
       " 'Perception': 1,\n",
       " 'Endurance': 15,\n",
       " 'Charisma': -1,\n",
       " 'Intelligence': 0,\n",
       " 'Agility': 15,\n",
       " 'Luck': 8}"
      ]
     },
     "execution_count": 173,
     "metadata": {},
     "output_type": "execute_result"
    }
   ],
   "source": [
    "brs1.get_stats()"
   ]
  },
  {
   "cell_type": "code",
   "execution_count": 174,
   "metadata": {},
   "outputs": [
    {
     "data": {
      "text/plain": [
       "['Berserk', 'Berserk']"
      ]
     },
     "execution_count": 174,
     "metadata": {},
     "output_type": "execute_result"
    }
   ],
   "source": [
    "brs2.get_positive_effects()"
   ]
  },
  {
   "cell_type": "code",
   "execution_count": 175,
   "metadata": {},
   "outputs": [
    {
     "ename": "AttributeError",
     "evalue": "'Berserk' object has no attribute 'negative_effects'",
     "output_type": "error",
     "traceback": [
      "\u001b[1;31m---------------------------------------------------------------------------\u001b[0m",
      "\u001b[1;31mAttributeError\u001b[0m                            Traceback (most recent call last)",
      "\u001b[1;32m<ipython-input-175-3adb77036870>\u001b[0m in \u001b[0;36m<module>\u001b[1;34m\u001b[0m\n\u001b[1;32m----> 1\u001b[1;33m \u001b[0mbrs1\u001b[0m\u001b[1;33m.\u001b[0m\u001b[0mget_negative_effects\u001b[0m\u001b[1;33m(\u001b[0m\u001b[1;33m)\u001b[0m\u001b[1;33m\u001b[0m\u001b[1;33m\u001b[0m\u001b[0m\n\u001b[0m",
      "\u001b[1;32m<ipython-input-1-b980d99fad44>\u001b[0m in \u001b[0;36mget_negative_effects\u001b[1;34m(self)\u001b[0m\n\u001b[0;32m     22\u001b[0m \u001b[1;33m\u001b[0m\u001b[0m\n\u001b[0;32m     23\u001b[0m     \u001b[1;32mdef\u001b[0m \u001b[0mget_negative_effects\u001b[0m\u001b[1;33m(\u001b[0m\u001b[0mself\u001b[0m\u001b[1;33m)\u001b[0m\u001b[1;33m:\u001b[0m\u001b[1;33m\u001b[0m\u001b[1;33m\u001b[0m\u001b[0m\n\u001b[1;32m---> 24\u001b[1;33m         \u001b[1;32mreturn\u001b[0m \u001b[0mself\u001b[0m\u001b[1;33m.\u001b[0m\u001b[0mnegative_effects\u001b[0m\u001b[1;33m.\u001b[0m\u001b[0mcopy\u001b[0m\u001b[1;33m(\u001b[0m\u001b[1;33m)\u001b[0m\u001b[1;33m\u001b[0m\u001b[1;33m\u001b[0m\u001b[0m\n\u001b[0m\u001b[0;32m     25\u001b[0m \u001b[1;33m\u001b[0m\u001b[0m\n\u001b[0;32m     26\u001b[0m     \u001b[1;32mdef\u001b[0m \u001b[0mget_stats\u001b[0m\u001b[1;33m(\u001b[0m\u001b[0mself\u001b[0m\u001b[1;33m)\u001b[0m\u001b[1;33m:\u001b[0m\u001b[1;33m\u001b[0m\u001b[1;33m\u001b[0m\u001b[0m\n",
      "\u001b[1;31mAttributeError\u001b[0m: 'Berserk' object has no attribute 'negative_effects'"
     ]
    }
   ],
   "source": [
    "brs1.get_negative_effects()"
   ]
  },
  {
   "cell_type": "code",
   "execution_count": 176,
   "metadata": {},
   "outputs": [],
   "source": [
    "brs2 = Berserk(brs1)"
   ]
  },
  {
   "cell_type": "code",
   "execution_count": 177,
   "metadata": {},
   "outputs": [
    {
     "ename": "AttributeError",
     "evalue": "'Berserk' object has no attribute 'negative_effects'",
     "output_type": "error",
     "traceback": [
      "\u001b[1;31m---------------------------------------------------------------------------\u001b[0m",
      "\u001b[1;31mAttributeError\u001b[0m                            Traceback (most recent call last)",
      "\u001b[1;32m<ipython-input-177-6f56d6e23201>\u001b[0m in \u001b[0;36m<module>\u001b[1;34m\u001b[0m\n\u001b[1;32m----> 1\u001b[1;33m \u001b[0mcur1\u001b[0m \u001b[1;33m=\u001b[0m \u001b[0mCurse\u001b[0m\u001b[1;33m(\u001b[0m\u001b[0mbrs2\u001b[0m\u001b[1;33m)\u001b[0m\u001b[1;33m\u001b[0m\u001b[1;33m\u001b[0m\u001b[0m\n\u001b[0m",
      "\u001b[1;32m<ipython-input-168-f598fe29c562>\u001b[0m in \u001b[0;36m__init__\u001b[1;34m(self, base)\u001b[0m\n\u001b[0;32m     17\u001b[0m     \u001b[1;32mdef\u001b[0m \u001b[0m__init__\u001b[0m\u001b[1;33m(\u001b[0m\u001b[0mself\u001b[0m\u001b[1;33m,\u001b[0m \u001b[0mbase\u001b[0m\u001b[1;33m)\u001b[0m\u001b[1;33m:\u001b[0m\u001b[1;33m\u001b[0m\u001b[1;33m\u001b[0m\u001b[0m\n\u001b[0;32m     18\u001b[0m         \u001b[0mself\u001b[0m\u001b[1;33m.\u001b[0m\u001b[0mbase\u001b[0m \u001b[1;33m=\u001b[0m \u001b[0mbase\u001b[0m\u001b[1;33m\u001b[0m\u001b[1;33m\u001b[0m\u001b[0m\n\u001b[1;32m---> 19\u001b[1;33m         \u001b[0mself\u001b[0m\u001b[1;33m.\u001b[0m\u001b[0mbase\u001b[0m\u001b[1;33m.\u001b[0m\u001b[0mnegative_effects\u001b[0m \u001b[1;33m=\u001b[0m \u001b[0mbase\u001b[0m\u001b[1;33m.\u001b[0m\u001b[0mget_negative_effects\u001b[0m\u001b[1;33m(\u001b[0m\u001b[1;33m)\u001b[0m\u001b[1;33m\u001b[0m\u001b[1;33m\u001b[0m\u001b[0m\n\u001b[0m\u001b[0;32m     20\u001b[0m \u001b[1;33m\u001b[0m\u001b[0m\n\u001b[0;32m     21\u001b[0m     \u001b[1;33m@\u001b[0m\u001b[0mabstractmethod\u001b[0m\u001b[1;33m\u001b[0m\u001b[1;33m\u001b[0m\u001b[0m\n",
      "\u001b[1;32m<ipython-input-1-b980d99fad44>\u001b[0m in \u001b[0;36mget_negative_effects\u001b[1;34m(self)\u001b[0m\n\u001b[0;32m     22\u001b[0m \u001b[1;33m\u001b[0m\u001b[0m\n\u001b[0;32m     23\u001b[0m     \u001b[1;32mdef\u001b[0m \u001b[0mget_negative_effects\u001b[0m\u001b[1;33m(\u001b[0m\u001b[0mself\u001b[0m\u001b[1;33m)\u001b[0m\u001b[1;33m:\u001b[0m\u001b[1;33m\u001b[0m\u001b[1;33m\u001b[0m\u001b[0m\n\u001b[1;32m---> 24\u001b[1;33m         \u001b[1;32mreturn\u001b[0m \u001b[0mself\u001b[0m\u001b[1;33m.\u001b[0m\u001b[0mnegative_effects\u001b[0m\u001b[1;33m.\u001b[0m\u001b[0mcopy\u001b[0m\u001b[1;33m(\u001b[0m\u001b[1;33m)\u001b[0m\u001b[1;33m\u001b[0m\u001b[1;33m\u001b[0m\u001b[0m\n\u001b[0m\u001b[0;32m     25\u001b[0m \u001b[1;33m\u001b[0m\u001b[0m\n\u001b[0;32m     26\u001b[0m     \u001b[1;32mdef\u001b[0m \u001b[0mget_stats\u001b[0m\u001b[1;33m(\u001b[0m\u001b[0mself\u001b[0m\u001b[1;33m)\u001b[0m\u001b[1;33m:\u001b[0m\u001b[1;33m\u001b[0m\u001b[1;33m\u001b[0m\u001b[0m\n",
      "\u001b[1;31mAttributeError\u001b[0m: 'Berserk' object has no attribute 'negative_effects'"
     ]
    }
   ],
   "source": [
    "cur1 = Curse(brs2)"
   ]
  },
  {
   "cell_type": "code",
   "execution_count": 178,
   "metadata": {},
   "outputs": [
    {
     "data": {
      "text/plain": [
       "{'HP': 178,\n",
       " 'MP': 42,\n",
       " 'SP': 100,\n",
       " 'Strength': 20,\n",
       " 'Perception': -1,\n",
       " 'Endurance': 13,\n",
       " 'Charisma': -3,\n",
       " 'Intelligence': -2,\n",
       " 'Agility': 13,\n",
       " 'Luck': 6}"
      ]
     },
     "execution_count": 178,
     "metadata": {},
     "output_type": "execute_result"
    }
   ],
   "source": [
    "cur1.get_stats()"
   ]
  },
  {
   "cell_type": "code",
   "execution_count": 179,
   "metadata": {},
   "outputs": [
    {
     "data": {
      "text/plain": [
       "['Berserk', 'Berserk']"
      ]
     },
     "execution_count": 179,
     "metadata": {},
     "output_type": "execute_result"
    }
   ],
   "source": [
    "cur1.get_positive_effects()"
   ]
  },
  {
   "cell_type": "code",
   "execution_count": 180,
   "metadata": {},
   "outputs": [],
   "source": [
    "cur1.base = brs1"
   ]
  },
  {
   "cell_type": "code",
   "execution_count": 181,
   "metadata": {},
   "outputs": [
    {
     "data": {
      "text/plain": [
       "{'HP': 178,\n",
       " 'MP': 42,\n",
       " 'SP': 100,\n",
       " 'Strength': 20,\n",
       " 'Perception': -1,\n",
       " 'Endurance': 13,\n",
       " 'Charisma': -3,\n",
       " 'Intelligence': -2,\n",
       " 'Agility': 13,\n",
       " 'Luck': 6}"
      ]
     },
     "execution_count": 181,
     "metadata": {},
     "output_type": "execute_result"
    }
   ],
   "source": [
    "cur1.get_stats()"
   ]
  },
  {
   "cell_type": "code",
   "execution_count": 182,
   "metadata": {},
   "outputs": [
    {
     "data": {
      "text/plain": [
       "['Berserk', 'Berserk']"
      ]
     },
     "execution_count": 182,
     "metadata": {},
     "output_type": "execute_result"
    }
   ],
   "source": [
    "cur1.get_positive_effects()"
   ]
  },
  {
   "cell_type": "code",
   "execution_count": 183,
   "metadata": {},
   "outputs": [
    {
     "ename": "AttributeError",
     "evalue": "'Berserk' object has no attribute 'negative_effects'",
     "output_type": "error",
     "traceback": [
      "\u001b[1;31m---------------------------------------------------------------------------\u001b[0m",
      "\u001b[1;31mAttributeError\u001b[0m                            Traceback (most recent call last)",
      "\u001b[1;32m<ipython-input-183-f9cff135638c>\u001b[0m in \u001b[0;36m<module>\u001b[1;34m\u001b[0m\n\u001b[1;32m----> 1\u001b[1;33m \u001b[0mcur1\u001b[0m\u001b[1;33m.\u001b[0m\u001b[0mget_negative_effects\u001b[0m\u001b[1;33m(\u001b[0m\u001b[1;33m)\u001b[0m\u001b[1;33m\u001b[0m\u001b[1;33m\u001b[0m\u001b[0m\n\u001b[0m",
      "\u001b[1;32m<ipython-input-143-0c24bb3c6c43>\u001b[0m in \u001b[0;36mget_negative_effects\u001b[1;34m(self)\u001b[0m\n\u001b[0;32m     79\u001b[0m \u001b[1;32mclass\u001b[0m \u001b[0mCurse\u001b[0m\u001b[1;33m(\u001b[0m\u001b[0mAbstractNegative\u001b[0m\u001b[1;33m)\u001b[0m\u001b[1;33m:\u001b[0m\u001b[1;33m\u001b[0m\u001b[1;33m\u001b[0m\u001b[0m\n\u001b[0;32m     80\u001b[0m     \u001b[1;32mdef\u001b[0m \u001b[0mget_negative_effects\u001b[0m\u001b[1;33m(\u001b[0m\u001b[0mself\u001b[0m\u001b[1;33m)\u001b[0m\u001b[1;33m:\u001b[0m\u001b[1;33m\u001b[0m\u001b[1;33m\u001b[0m\u001b[0m\n\u001b[1;32m---> 81\u001b[1;33m         \u001b[0mself\u001b[0m\u001b[1;33m.\u001b[0m\u001b[0mnegative_effects\u001b[0m \u001b[1;33m=\u001b[0m \u001b[0mself\u001b[0m\u001b[1;33m.\u001b[0m\u001b[0mbase\u001b[0m\u001b[1;33m.\u001b[0m\u001b[0mget_negative_effects\u001b[0m\u001b[1;33m(\u001b[0m\u001b[1;33m)\u001b[0m\u001b[1;33m\u001b[0m\u001b[1;33m\u001b[0m\u001b[0m\n\u001b[0m\u001b[0;32m     82\u001b[0m         \u001b[0mself\u001b[0m\u001b[1;33m.\u001b[0m\u001b[0mnegative_effects\u001b[0m\u001b[1;33m.\u001b[0m\u001b[0mappend\u001b[0m\u001b[1;33m(\u001b[0m\u001b[1;34m'Curse'\u001b[0m\u001b[1;33m)\u001b[0m\u001b[1;33m\u001b[0m\u001b[1;33m\u001b[0m\u001b[0m\n\u001b[0;32m     83\u001b[0m         \u001b[1;32mreturn\u001b[0m \u001b[0mself\u001b[0m\u001b[1;33m.\u001b[0m\u001b[0mnegative_effects\u001b[0m\u001b[1;33m\u001b[0m\u001b[1;33m\u001b[0m\u001b[0m\n",
      "\u001b[1;32m<ipython-input-1-b980d99fad44>\u001b[0m in \u001b[0;36mget_negative_effects\u001b[1;34m(self)\u001b[0m\n\u001b[0;32m     22\u001b[0m \u001b[1;33m\u001b[0m\u001b[0m\n\u001b[0;32m     23\u001b[0m     \u001b[1;32mdef\u001b[0m \u001b[0mget_negative_effects\u001b[0m\u001b[1;33m(\u001b[0m\u001b[0mself\u001b[0m\u001b[1;33m)\u001b[0m\u001b[1;33m:\u001b[0m\u001b[1;33m\u001b[0m\u001b[1;33m\u001b[0m\u001b[0m\n\u001b[1;32m---> 24\u001b[1;33m         \u001b[1;32mreturn\u001b[0m \u001b[0mself\u001b[0m\u001b[1;33m.\u001b[0m\u001b[0mnegative_effects\u001b[0m\u001b[1;33m.\u001b[0m\u001b[0mcopy\u001b[0m\u001b[1;33m(\u001b[0m\u001b[1;33m)\u001b[0m\u001b[1;33m\u001b[0m\u001b[1;33m\u001b[0m\u001b[0m\n\u001b[0m\u001b[0;32m     25\u001b[0m \u001b[1;33m\u001b[0m\u001b[0m\n\u001b[0;32m     26\u001b[0m     \u001b[1;32mdef\u001b[0m \u001b[0mget_stats\u001b[0m\u001b[1;33m(\u001b[0m\u001b[0mself\u001b[0m\u001b[1;33m)\u001b[0m\u001b[1;33m:\u001b[0m\u001b[1;33m\u001b[0m\u001b[1;33m\u001b[0m\u001b[0m\n",
      "\u001b[1;31mAttributeError\u001b[0m: 'Berserk' object has no attribute 'negative_effects'"
     ]
    }
   ],
   "source": [
    "cur1.get_negative_effects()"
   ]
  },
  {
   "cell_type": "code",
   "execution_count": null,
   "metadata": {},
   "outputs": [],
   "source": []
  },
  {
   "cell_type": "code",
   "execution_count": null,
   "metadata": {},
   "outputs": [],
   "source": []
  }
 ],
 "metadata": {
  "kernelspec": {
   "display_name": "Python 3",
   "language": "python",
   "name": "python3"
  },
  "language_info": {
   "codemirror_mode": {
    "name": "ipython",
    "version": 3
   },
   "file_extension": ".py",
   "mimetype": "text/x-python",
   "name": "python",
   "nbconvert_exporter": "python",
   "pygments_lexer": "ipython3",
   "version": "3.7.1"
  }
 },
 "nbformat": 4,
 "nbformat_minor": 2
}
